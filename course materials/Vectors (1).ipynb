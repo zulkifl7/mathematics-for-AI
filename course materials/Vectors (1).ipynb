{
 "cells": [
  {
   "cell_type": "markdown",
   "metadata": {},
   "source": [
    "# Vectors"
   ]
  },
  {
   "cell_type": "code",
   "execution_count": 1,
   "metadata": {},
   "outputs": [
    {
     "name": "stdout",
     "output_type": "stream",
     "text": [
      "Vector created from a list:\n",
      "[10 20 30 40 50]\n"
     ]
    }
   ],
   "source": [
    "import numpy as np \n",
    "\n",
    "lst = [10,20,30,40,50] \n",
    "\n",
    "vctr = np.array(lst) \n",
    "\n",
    "print(\"Vector created from a list:\") \n",
    "print(vctr)"
   ]
  },
  {
   "cell_type": "code",
   "execution_count": 2,
   "metadata": {},
   "outputs": [
    {
     "name": "stdout",
     "output_type": "stream",
     "text": [
      "10,20,30,40,50\n"
     ]
    }
   ],
   "source": [
    "vctr = np.array('10,20,30,40,50') \n",
    "print(vctr)"
   ]
  },
  {
   "cell_type": "code",
   "execution_count": 3,
   "metadata": {},
   "outputs": [
    {
     "name": "stdout",
     "output_type": "stream",
     "text": [
      "[10 20 30 40 50]\n"
     ]
    }
   ],
   "source": [
    "vctr = np.array([10,20,30,40,50]) \n",
    "print(vctr)"
   ]
  },
  {
   "cell_type": "code",
   "execution_count": 4,
   "metadata": {},
   "outputs": [
    {
     "name": "stdout",
     "output_type": "stream",
     "text": [
      "Vector created from a list:\n",
      "[[ 2]\n",
      " [ 4]\n",
      " [ 6]\n",
      " [10]]\n"
     ]
    }
   ],
   "source": [
    "import numpy as np \n",
    "\n",
    "lst = [[2], \n",
    "        [4], \n",
    "        [6],\n",
    "          [10]]  \n",
    "\n",
    "vctr = np.array(lst) \n",
    "\n",
    "print(\"Vector created from a list:\") \n",
    "print(vctr)"
   ]
  },
  {
   "cell_type": "markdown",
   "metadata": {},
   "source": [
    "### Basic Operations"
   ]
  },
  {
   "cell_type": "code",
   "execution_count": 5,
   "metadata": {},
   "outputs": [
    {
     "name": "stdout",
     "output_type": "stream",
     "text": [
      "[10 20 30 40 50]\n",
      "[1 2 3 4 5]\n",
      "Addition of two vectors:  [11 22 33 44 55]\n"
     ]
    }
   ],
   "source": [
    "import numpy as np \n",
    "\n",
    "lst1 = [10,20,30,40,50] \n",
    "lst2 = [1,2,3,4,5]\n",
    "vctr1 = np.array(lst1) \n",
    "vctr2= np.array(lst2) \n",
    "print(vctr1)  \n",
    "print(vctr2) \n",
    "vctr_add = vctr1+vctr2\n",
    "print(\"Addition of two vectors: \",vctr_add)"
   ]
  },
  {
   "cell_type": "code",
   "execution_count": 6,
   "metadata": {},
   "outputs": [
    {
     "name": "stdout",
     "output_type": "stream",
     "text": [
      "Subtraction of two vectors:  [ 9 18 27 36 45]\n"
     ]
    }
   ],
   "source": [
    "import numpy as np \n",
    "\n",
    "lst1 = [10,20,30,40,50] \n",
    "lst2 = [1,2,3,4,5]\n",
    "\n",
    "vctr1 = np.array(lst1) \n",
    "\n",
    "vctr2= np.array(lst2) \n",
    "\n",
    "vctr_sub = vctr1-vctr2\n",
    "print(\"Subtraction of two vectors: \",vctr_sub)"
   ]
  },
  {
   "cell_type": "code",
   "execution_count": 7,
   "metadata": {},
   "outputs": [
    {
     "name": "stdout",
     "output_type": "stream",
     "text": [
      "Division of two vectors:  [1. 1. 1. 1. 1.]\n"
     ]
    }
   ],
   "source": [
    "import numpy as np \n",
    " \n",
    "lst1 = [10,20,30,40,50] \n",
    "lst2 = [10,20,30,40,50]\n",
    " \n",
    "vctr1 = np.array(lst1) \n",
    " \n",
    "vctr2= np.array(lst2) \n",
    "\n",
    "vctr_div = vctr1/vctr2\n",
    "print(\"Division of two vectors: \",vctr_div)"
   ]
  },
  {
   "cell_type": "markdown",
   "metadata": {},
   "source": [
    "#### Vector dot product"
   ]
  },
  {
   "cell_type": "code",
   "execution_count": 10,
   "metadata": {},
   "outputs": [
    {
     "name": "stdout",
     "output_type": "stream",
     "text": [
      "Dot product of two vectors:  150\n"
     ]
    }
   ],
   "source": [
    "import numpy as np \n",
    "\n",
    "lst1 = [10,20,30,40,50] \n",
    "lst2 = [1,1,1,1,1]\n",
    "\n",
    "\n",
    "vctr1 = np.array(lst1) \n",
    "\n",
    "vctr2= np.array(lst2) \n",
    "\n",
    "#vctr_dot = vctr1.dot(vctr2)\n",
    "vctr_dot= np.dot(vctr1,vctr2)\n",
    "print(\"Dot product of two vectors: \",vctr_dot)"
   ]
  },
  {
   "cell_type": "markdown",
   "metadata": {},
   "source": [
    "### Magnitude of a Vector"
   ]
  },
  {
   "cell_type": "markdown",
   "metadata": {},
   "source": [
    "#### Method 01:Use linalg.norm()"
   ]
  },
  {
   "cell_type": "code",
   "execution_count": 9,
   "metadata": {},
   "outputs": [
    {
     "data": {
      "text/plain": [
       "21.77154105707724"
      ]
     },
     "execution_count": 9,
     "metadata": {},
     "output_type": "execute_result"
    }
   ],
   "source": [
    "import numpy as np\n",
    "\n",
    "#define vector\n",
    "x = np.array([3, 6, 6, 4, 8, 12, 13])\n",
    "\n",
    "#calculate magnitude of vector\n",
    "np.linalg.norm(x)"
   ]
  },
  {
   "cell_type": "markdown",
   "metadata": {},
   "source": [
    "Method to find the magnitude"
   ]
  },
  {
   "cell_type": "markdown",
   "metadata": {},
   "source": [
    "#### Method 02: Use Custom NumPy Functions"
   ]
  },
  {
   "cell_type": "code",
   "execution_count": 10,
   "metadata": {},
   "outputs": [
    {
     "data": {
      "text/plain": [
       "21.77154105707724"
      ]
     },
     "execution_count": 10,
     "metadata": {},
     "output_type": "execute_result"
    }
   ],
   "source": [
    "#define vector\n",
    "x = np.array([3, 6, 6, 4, 8, 12, 13])\n",
    "\n",
    "#calculate magnitude of vector\n",
    "np.sqrt(x.dot(x))\n"
   ]
  },
  {
   "cell_type": "code",
   "execution_count": null,
   "metadata": {},
   "outputs": [],
   "source": [
    "np.sqrt(np.dot(x,x))"
   ]
  },
  {
   "cell_type": "markdown",
   "metadata": {},
   "source": [
    "### Unit Vectors"
   ]
  },
  {
   "cell_type": "markdown",
   "metadata": {},
   "source": [
    "#### Method 1: Using unit_vector() method from transformations library"
   ]
  },
  {
   "cell_type": "code",
   "execution_count": 5,
   "metadata": {},
   "outputs": [
    {
     "name": "stdout",
     "output_type": "stream",
     "text": [
      "Requirement already satisfied: transformations in c:\\users\\sajuran\\anaconda3\\lib\\site-packages (2022.9.26)\n",
      "Requirement already satisfied: numpy>=1.19.2 in c:\\users\\sajuran\\anaconda3\\lib\\site-packages (from transformations) (1.24.3)\n",
      "Note: you may need to restart the kernel to use updated packages.\n"
     ]
    }
   ],
   "source": [
    "pip install transformations"
   ]
  },
  {
   "cell_type": "code",
   "execution_count": 11,
   "metadata": {},
   "outputs": [
    {
     "name": "stdout",
     "output_type": "stream",
     "text": [
      "[0.26726124 0.53452248 0.80178373]\n"
     ]
    }
   ],
   "source": [
    "import transformations as tr\n",
    "# creating a numpy array\n",
    "arr = np.array([1,2,3])\n",
    "# normalizing the array to unit vector\n",
    "#print(transformations.unit_vector(arr))\n",
    "print(tr.unit_vector(arr))"
   ]
  },
  {
   "cell_type": "code",
   "execution_count": 4,
   "metadata": {},
   "outputs": [
    {
     "data": {
      "text/plain": [
       "0.8017837257372732"
      ]
     },
     "execution_count": 4,
     "metadata": {},
     "output_type": "execute_result"
    }
   ],
   "source": [
    "3/np.sqrt(14)"
   ]
  },
  {
   "cell_type": "markdown",
   "metadata": {},
   "source": [
    "#### Method 2: Using normalize() method from vg module."
   ]
  },
  {
   "cell_type": "code",
   "execution_count": 8,
   "metadata": {},
   "outputs": [
    {
     "name": "stdout",
     "output_type": "stream",
     "text": [
      "Collecting vg\n",
      "  Downloading vg-2.0.0-py3-none-any.whl (16 kB)\n",
      "Requirement already satisfied: numpy in c:\\users\\sajuran\\anaconda3\\lib\\site-packages (from vg) (1.24.3)\n",
      "Installing collected packages: vg\n",
      "Successfully installed vg-2.0.0\n",
      "Note: you may need to restart the kernel to use updated packages.\n"
     ]
    }
   ],
   "source": [
    "pip install vg"
   ]
  },
  {
   "cell_type": "code",
   "execution_count": 3,
   "metadata": {},
   "outputs": [
    {
     "name": "stdout",
     "output_type": "stream",
     "text": [
      "[0.26726124 0.53452248 0.80178373]\n"
     ]
    }
   ],
   "source": [
    "import vg\n",
    "# creating a numpy array\n",
    "arr = np.array([1,2,3])\n",
    "# normalizing the array to unit vector\n",
    "unit_vector = vg.normalize(arr)\n",
    "print(unit_vector)"
   ]
  },
  {
   "cell_type": "markdown",
   "metadata": {},
   "source": [
    "#### Method 3: Using linalg.norm() method from numpy module"
   ]
  },
  {
   "cell_type": "code",
   "execution_count": 17,
   "metadata": {},
   "outputs": [
    {
     "name": "stdout",
     "output_type": "stream",
     "text": [
      "[0.26726124 0.53452248 0.80178373]\n"
     ]
    }
   ],
   "source": [
    "import numpy as np\n",
    "data = np.array([1,2,3])\n",
    "# normalizing the array to unit vector\n",
    "unitVector = data / np.linalg.norm(data)\n",
    "print(unitVector)"
   ]
  },
  {
   "cell_type": "markdown",
   "metadata": {},
   "source": [
    "### Product of Vectors"
   ]
  },
  {
   "cell_type": "code",
   "execution_count": 7,
   "metadata": {},
   "outputs": [
    {
     "name": "stdout",
     "output_type": "stream",
     "text": [
      "14\n"
     ]
    }
   ],
   "source": [
    "\n",
    "p = [4, 2]\n",
    "q = [5, 6]\n",
    "product = np.cross(p,q)\n",
    "print(product)"
   ]
  },
  {
   "cell_type": "code",
   "execution_count": 8,
   "metadata": {},
   "outputs": [
    {
     "name": "stdout",
     "output_type": "stream",
     "text": [
      "1\n"
     ]
    }
   ],
   "source": [
    "p = np.array ([1,2])\n",
    "q = np.array ([1,3])\n",
    "product = np.cross(p,q)\n",
    "print(product)"
   ]
  },
  {
   "cell_type": "code",
   "execution_count": 22,
   "metadata": {},
   "outputs": [
    {
     "name": "stdout",
     "output_type": "stream",
     "text": [
      "Dot product of two array is: 30\n"
     ]
    }
   ],
   "source": [
    "arr1 = np.array([2,2])\n",
    "arr2 = np.array([5,10])\n",
    "dotproduct = np.dot(arr1, arr2)\n",
    "print(\"Dot product of two array is:\", dotproduct)"
   ]
  },
  {
   "cell_type": "code",
   "execution_count": null,
   "metadata": {},
   "outputs": [],
   "source": []
  }
 ],
 "metadata": {
  "celltoolbar": "Raw Cell Format",
  "kernelspec": {
   "display_name": "Python 3 (ipykernel)",
   "language": "python",
   "name": "python3"
  },
  "language_info": {
   "codemirror_mode": {
    "name": "ipython",
    "version": 3
   },
   "file_extension": ".py",
   "mimetype": "text/x-python",
   "name": "python",
   "nbconvert_exporter": "python",
   "pygments_lexer": "ipython3",
   "version": "3.11.3"
  },
  "toc": {
   "base_numbering": 1,
   "nav_menu": {},
   "number_sections": true,
   "sideBar": true,
   "skip_h1_title": false,
   "title_cell": "Table of Contents",
   "title_sidebar": "Contents",
   "toc_cell": false,
   "toc_position": {},
   "toc_section_display": true,
   "toc_window_display": false
  }
 },
 "nbformat": 4,
 "nbformat_minor": 4
}
