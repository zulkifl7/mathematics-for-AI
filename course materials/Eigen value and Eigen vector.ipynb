{
 "cells": [
  {
   "cell_type": "markdown",
   "id": "e2d124e5",
   "metadata": {},
   "source": [
    "# Eigen Value Aand Eigen Vector"
   ]
  },
  {
   "cell_type": "code",
   "execution_count": null,
   "id": "f2768c0a",
   "metadata": {},
   "outputs": [],
   "source": [
    "import numpy as np\n",
    "from numpy import*\n"
   ]
  },
  {
   "cell_type": "code",
   "execution_count": 10,
   "id": "c9672a7c",
   "metadata": {},
   "outputs": [
    {
     "name": "stdout",
     "output_type": "stream",
     "text": [
      "Eigen Value=  [ 3.31662479 -3.31662479]\n",
      "eigen Vector= [[ 0.98276713 -0.79634714]\n",
      " [ 0.18484794  0.60483985]]\n"
     ]
    }
   ],
   "source": [
    "a=np.matrix([[ 2, 7],[1, -2]])\n",
    "val, vec= np.linalg.eig(a)\n",
    "print(\"Eigen Value= \", val)\n",
    "print('eigen Vector=', vec)"
   ]
  },
  {
   "cell_type": "code",
   "execution_count": 11,
   "id": "ed08ec8e",
   "metadata": {},
   "outputs": [
    {
     "name": "stdout",
     "output_type": "stream",
     "text": [
      "Eigen Value=  [ 4. -3.]\n",
      "eigen Vector= [[ 0.70710678 -0.37139068]\n",
      " [ 0.70710678  0.92847669]]\n"
     ]
    }
   ],
   "source": [
    "b=np.matrix([[ 2 ,2],[5, -1]])\n",
    "val, vec= np.linalg.eig(b)\n",
    "print(\"Eigen Value= \", val)\n",
    "print('eigen Vector=', vec)"
   ]
  },
  {
   "cell_type": "code",
   "execution_count": 12,
   "id": "32e6bfe8",
   "metadata": {},
   "outputs": [
    {
     "name": "stdout",
     "output_type": "stream",
     "text": [
      "Eigen Value=  [-5.  3.  6.]\n",
      "eigen Vector= [[ 0.81649658  0.53452248  0.05842062]\n",
      " [ 0.40824829 -0.80178373  0.35052374]\n",
      " [-0.40824829 -0.26726124  0.93472998]]\n"
     ]
    }
   ],
   "source": [
    "c=np.matrix([[ -2 ,-4,2],[-2, 1,2],[4,2,5]])\n",
    "val, vec= np.linalg.eig(c)\n",
    "print(\"Eigen Value= \", val)\n",
    "print('eigen Vector=', vec)"
   ]
  },
  {
   "cell_type": "code",
   "execution_count": null,
   "id": "1842c2e8",
   "metadata": {},
   "outputs": [],
   "source": []
  }
 ],
 "metadata": {
  "kernelspec": {
   "display_name": "Python 3 (ipykernel)",
   "language": "python",
   "name": "python3"
  },
  "language_info": {
   "codemirror_mode": {
    "name": "ipython",
    "version": 3
   },
   "file_extension": ".py",
   "mimetype": "text/x-python",
   "name": "python",
   "nbconvert_exporter": "python",
   "pygments_lexer": "ipython3",
   "version": "3.11.3"
  },
  "toc": {
   "base_numbering": 1,
   "nav_menu": {},
   "number_sections": true,
   "sideBar": true,
   "skip_h1_title": false,
   "title_cell": "Table of Contents",
   "title_sidebar": "Contents",
   "toc_cell": false,
   "toc_position": {},
   "toc_section_display": true,
   "toc_window_display": false
  }
 },
 "nbformat": 4,
 "nbformat_minor": 5
}
